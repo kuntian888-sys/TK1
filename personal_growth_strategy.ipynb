{
 "cells": [
  {
   "cell_type": "code",
   "execution_count": null,
   "metadata": {},
   "outputs": [],
   "source": [
    "import matplotlib.pyplot as plt\n",
    "import numpy as np\n",
    "\n",
    "# 时间阶段\n",
    "stages = [\"大二下~大三上\", \"大三下\", \"大四\", \"研一~研二\", \"职场初期\", \"职场第5年后\"]\n",
    "x = np.arange(len(stages))\n",
    "\n",
    "# 两条路径曲线\n",
    "obedient_path = [0.4, 0.55, 0.7, 0.8, 0.85, 0.87]  # 循规蹈矩路径\n",
    "ability_path = [0.2, 0.3, 0.5, 0.75, 0.9, 1.0]      # 能力导向路径\n",
    "\n",
    "plt.figure(figsize=(10, 6))\n",
    "plt.plot(x, obedient_path, marker=\"o\", label=\"循规蹈矩路径（稳定上升）\")\n",
    "plt.plot(x, ability_path, marker=\"o\", label=\"能力导向路径（波动-爆发型）\")\n",
    "\n",
    "# 风险区与交汇点\n",
    "plt.axvspan(1, 2, color=\"gray\", alpha=0.1, label=\"复合策略窗口（大三下）\")\n",
    "plt.axvline(4, color=\"red\", linestyle=\"--\", label=\"交汇点：职场前3年\")\n",
    "\n",
    "# 标注\n",
    "plt.text(4.05, 0.88, \"交汇点：能力路径反超\", color=\"red\")\n",
    "plt.text(2.2, 0.65, \"风险收敛区\", color=\"gray\")\n",
    "\n",
    "# 轴与标题\n",
    "plt.xticks(x, stages, rotation=20)\n",
    "plt.ylabel(\"综合能力（相对水平）\")\n",
    "plt.title(\"个人成长动态策略图：循规蹈矩 vs 能力导向\")\n",
    "plt.legend()\n",
    "plt.grid(alpha=0.3)\n",
    "\n",
    "plt.tight_layout()\n",
    "plt.show()\n"
   ]
  }
 ],
 "metadata": {
  "kernelspec": {
   "display_name": "Python 3",
   "language": "python",
   "name": "python3"
  },
  "language_info": {
   "name": "python",
   "version": "3.x"
  }
 },
 "nbformat": 4,
 "nbformat_minor": 5
}
